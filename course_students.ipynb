{
 "cells": [
  {
   "cell_type": "code",
   "execution_count": 88,
   "id": "c93f413d",
   "metadata": {},
   "outputs": [],
   "source": [
    "%matplotlib inline\n",
    "import datetime as dt\n",
    "import pandas as pd\n",
    "import numpy as np\n",
    "import matplotlib\n",
    "import matplotlib.pyplot as plt\n",
    "import seaborn as sns"
   ]
  },
  {
   "cell_type": "code",
   "execution_count": 2,
   "id": "4b09478c",
   "metadata": {},
   "outputs": [],
   "source": [
    "from sklearn import tree\n",
    "from sklearn.ensemble import RandomForestClassifier\n",
    "from sklearn.metrics import accuracy_score, precision_score, confusion_matrix\n",
    "from sklearn.model_selection import train_test_split, cross_val_score, GridSearchCV"
   ]
  },
  {
   "cell_type": "code",
   "execution_count": 3,
   "id": "b2cc3f5c",
   "metadata": {},
   "outputs": [],
   "source": [
    "events = pd.read_csv('event_data_train.csv')\n",
    "submissions = pd.read_csv('submissions_data_train.csv')\n",
    "events['date'] = pd.to_datetime(events.timestamp, unit='s').dt.date\n",
    "submissions['date'] = pd.to_datetime(submissions.timestamp, unit='s').dt.date"
   ]
  },
  {
   "cell_type": "code",
   "execution_count": 4,
   "id": "7d996bee",
   "metadata": {},
   "outputs": [
    {
     "data": {
      "text/html": [
       "<div>\n",
       "<style scoped>\n",
       "    .dataframe tbody tr th:only-of-type {\n",
       "        vertical-align: middle;\n",
       "    }\n",
       "\n",
       "    .dataframe tbody tr th {\n",
       "        vertical-align: top;\n",
       "    }\n",
       "\n",
       "    .dataframe thead th {\n",
       "        text-align: right;\n",
       "    }\n",
       "</style>\n",
       "<table border=\"1\" class=\"dataframe\">\n",
       "  <thead>\n",
       "    <tr style=\"text-align: right;\">\n",
       "      <th></th>\n",
       "      <th>step_id</th>\n",
       "      <th>timestamp</th>\n",
       "      <th>action</th>\n",
       "      <th>user_id</th>\n",
       "      <th>date</th>\n",
       "    </tr>\n",
       "  </thead>\n",
       "  <tbody>\n",
       "    <tr>\n",
       "      <th>0</th>\n",
       "      <td>32815</td>\n",
       "      <td>1434340848</td>\n",
       "      <td>viewed</td>\n",
       "      <td>17632</td>\n",
       "      <td>2015-06-15</td>\n",
       "    </tr>\n",
       "    <tr>\n",
       "      <th>1</th>\n",
       "      <td>32815</td>\n",
       "      <td>1434340848</td>\n",
       "      <td>passed</td>\n",
       "      <td>17632</td>\n",
       "      <td>2015-06-15</td>\n",
       "    </tr>\n",
       "    <tr>\n",
       "      <th>2</th>\n",
       "      <td>32815</td>\n",
       "      <td>1434340848</td>\n",
       "      <td>discovered</td>\n",
       "      <td>17632</td>\n",
       "      <td>2015-06-15</td>\n",
       "    </tr>\n",
       "    <tr>\n",
       "      <th>3</th>\n",
       "      <td>32811</td>\n",
       "      <td>1434340895</td>\n",
       "      <td>discovered</td>\n",
       "      <td>17632</td>\n",
       "      <td>2015-06-15</td>\n",
       "    </tr>\n",
       "    <tr>\n",
       "      <th>4</th>\n",
       "      <td>32811</td>\n",
       "      <td>1434340895</td>\n",
       "      <td>viewed</td>\n",
       "      <td>17632</td>\n",
       "      <td>2015-06-15</td>\n",
       "    </tr>\n",
       "  </tbody>\n",
       "</table>\n",
       "</div>"
      ],
      "text/plain": [
       "   step_id   timestamp      action  user_id        date\n",
       "0    32815  1434340848      viewed    17632  2015-06-15\n",
       "1    32815  1434340848      passed    17632  2015-06-15\n",
       "2    32815  1434340848  discovered    17632  2015-06-15\n",
       "3    32811  1434340895  discovered    17632  2015-06-15\n",
       "4    32811  1434340895      viewed    17632  2015-06-15"
      ]
     },
     "execution_count": 4,
     "metadata": {},
     "output_type": "execute_result"
    }
   ],
   "source": [
    "events.head()"
   ]
  },
  {
   "cell_type": "code",
   "execution_count": 5,
   "id": "15ade2b3",
   "metadata": {},
   "outputs": [
    {
     "data": {
      "text/html": [
       "<div>\n",
       "<style scoped>\n",
       "    .dataframe tbody tr th:only-of-type {\n",
       "        vertical-align: middle;\n",
       "    }\n",
       "\n",
       "    .dataframe tbody tr th {\n",
       "        vertical-align: top;\n",
       "    }\n",
       "\n",
       "    .dataframe thead th {\n",
       "        text-align: right;\n",
       "    }\n",
       "</style>\n",
       "<table border=\"1\" class=\"dataframe\">\n",
       "  <thead>\n",
       "    <tr style=\"text-align: right;\">\n",
       "      <th></th>\n",
       "      <th>step_id</th>\n",
       "      <th>timestamp</th>\n",
       "      <th>submission_status</th>\n",
       "      <th>user_id</th>\n",
       "      <th>date</th>\n",
       "    </tr>\n",
       "  </thead>\n",
       "  <tbody>\n",
       "    <tr>\n",
       "      <th>0</th>\n",
       "      <td>31971</td>\n",
       "      <td>1434349275</td>\n",
       "      <td>correct</td>\n",
       "      <td>15853</td>\n",
       "      <td>2015-06-15</td>\n",
       "    </tr>\n",
       "    <tr>\n",
       "      <th>1</th>\n",
       "      <td>31972</td>\n",
       "      <td>1434348300</td>\n",
       "      <td>correct</td>\n",
       "      <td>15853</td>\n",
       "      <td>2015-06-15</td>\n",
       "    </tr>\n",
       "    <tr>\n",
       "      <th>2</th>\n",
       "      <td>31972</td>\n",
       "      <td>1478852149</td>\n",
       "      <td>wrong</td>\n",
       "      <td>15853</td>\n",
       "      <td>2016-11-11</td>\n",
       "    </tr>\n",
       "    <tr>\n",
       "      <th>3</th>\n",
       "      <td>31972</td>\n",
       "      <td>1478852164</td>\n",
       "      <td>correct</td>\n",
       "      <td>15853</td>\n",
       "      <td>2016-11-11</td>\n",
       "    </tr>\n",
       "    <tr>\n",
       "      <th>4</th>\n",
       "      <td>31976</td>\n",
       "      <td>1434348123</td>\n",
       "      <td>wrong</td>\n",
       "      <td>15853</td>\n",
       "      <td>2015-06-15</td>\n",
       "    </tr>\n",
       "  </tbody>\n",
       "</table>\n",
       "</div>"
      ],
      "text/plain": [
       "   step_id   timestamp submission_status  user_id        date\n",
       "0    31971  1434349275           correct    15853  2015-06-15\n",
       "1    31972  1434348300           correct    15853  2015-06-15\n",
       "2    31972  1478852149             wrong    15853  2016-11-11\n",
       "3    31972  1478852164           correct    15853  2016-11-11\n",
       "4    31976  1434348123             wrong    15853  2015-06-15"
      ]
     },
     "execution_count": 5,
     "metadata": {},
     "output_type": "execute_result"
    }
   ],
   "source": [
    "submissions.head()"
   ]
  },
  {
   "cell_type": "code",
   "execution_count": 6,
   "id": "afd02f91",
   "metadata": {},
   "outputs": [
    {
     "data": {
      "text/plain": [
       "((3480703, 5), (509104, 5))"
      ]
     },
     "execution_count": 6,
     "metadata": {},
     "output_type": "execute_result"
    }
   ],
   "source": [
    "events.shape, submissions.shape"
   ]
  },
  {
   "cell_type": "code",
   "execution_count": 7,
   "id": "38693523",
   "metadata": {},
   "outputs": [
    {
     "data": {
      "text/plain": [
       "(19234, 9940)"
      ]
     },
     "execution_count": 7,
     "metadata": {},
     "output_type": "execute_result"
    }
   ],
   "source": [
    "events.user_id.nunique(), submissions.user_id.nunique() #as we can see, some users don't have any submissions"
   ]
  },
  {
   "cell_type": "code",
   "execution_count": 98,
   "id": "281bf5a1",
   "metadata": {},
   "outputs": [
    {
     "data": {
      "text/plain": [
       "(Text(0.5, 0, 'date'), Text(0, 0.5, 'number of actions'))"
      ]
     },
     "execution_count": 98,
     "metadata": {},
     "output_type": "execute_result"
    },
    {
     "data": {
      "image/png": "[encoded data removed]",
      "text/plain": [
       "<Figure size 800x600 with 1 Axes>"
      ]
     },
     "metadata": {},
     "output_type": "display_data"
    }
   ],
   "source": [
    "ev_date_hist = plt.figure(figsize=(8, 6))\n",
    "sns.histplot(events['date'], kde=True)\n",
    "plt.title('Number of actions per day')\n",
    "plt.xticks(rotation='45')\n",
    "plt.xlabel('date'), plt.ylabel('number of actions')"
   ]
  },
  {
   "cell_type": "code",
   "execution_count": 8,
   "id": "be2bb858",
   "metadata": {},
   "outputs": [],
   "source": [
    "diff_between_steps = events[['timestamp', 'user_id', 'date']].drop_duplicates(subset=['date', 'user_id'])\\\n",
    "                                                             .groupby('user_id')['timestamp']\\\n",
    "                                                             .apply(list).apply(np.diff).values"
   ]
  },
  {
   "cell_type": "code",
   "execution_count": 9,
   "id": "ca5c7447",
   "metadata": {},
   "outputs": [],
   "source": [
    "#Transform difference between days timestamp in days\n",
    "gap_data = pd.Series(np.concatenate(diff_between_steps))\n",
    "gap_data = gap_data.apply(lambda ts: round(ts/(24*60*60)))"
   ]
  },
  {
   "cell_type": "code",
   "execution_count": 10,
   "id": "ec69c7ec",
   "metadata": {},
   "outputs": [
    {
     "data": {
      "text/html": [
       "<div>\n",
       "<style scoped>\n",
       "    .dataframe tbody tr th:only-of-type {\n",
       "        vertical-align: middle;\n",
       "    }\n",
       "\n",
       "    .dataframe tbody tr th {\n",
       "        vertical-align: top;\n",
       "    }\n",
       "\n",
       "    .dataframe thead th {\n",
       "        text-align: right;\n",
       "    }\n",
       "</style>\n",
       "<table border=\"1\" class=\"dataframe\">\n",
       "  <thead>\n",
       "    <tr style=\"text-align: right;\">\n",
       "      <th></th>\n",
       "      <th>days_count</th>\n",
       "    </tr>\n",
       "  </thead>\n",
       "  <tbody>\n",
       "    <tr>\n",
       "      <th>1</th>\n",
       "      <td>49362</td>\n",
       "    </tr>\n",
       "    <tr>\n",
       "      <th>2</th>\n",
       "      <td>11520</td>\n",
       "    </tr>\n",
       "    <tr>\n",
       "      <th>3</th>\n",
       "      <td>6488</td>\n",
       "    </tr>\n",
       "    <tr>\n",
       "      <th>4</th>\n",
       "      <td>3893</td>\n",
       "    </tr>\n",
       "    <tr>\n",
       "      <th>5</th>\n",
       "      <td>2827</td>\n",
       "    </tr>\n",
       "  </tbody>\n",
       "</table>\n",
       "</div>"
      ],
      "text/plain": [
       "   days_count\n",
       "1       49362\n",
       "2       11520\n",
       "3        6488\n",
       "4        3893\n",
       "5        2827"
      ]
     },
     "execution_count": 10,
     "metadata": {},
     "output_type": "execute_result"
    }
   ],
   "source": [
    "break_days_count = pd.DataFrame(gap_data.value_counts()).drop(0, axis=0)\\\n",
    "                                                        .rename({0: 'days_count'}, axis=1)\\\n",
    "                                                        .sort_values(by='days_count', ascending=False)\n",
    "break_days_count = break_days_count.set_index(break_days_count.index.astype('int64'))                               \n",
    "break_days_count.head()"
   ]
  },
  {
   "cell_type": "code",
   "execution_count": 11,
   "id": "0d690db1",
   "metadata": {},
   "outputs": [
    {
     "data": {
      "text/plain": [
       "Text(0, 0.5, 'count')"
      ]
     },
     "execution_count": 11,
     "metadata": {},
     "output_type": "execute_result"
    },
    {
     "data": {
      "image/png": "[encoded data removed]",
      "text/plain": [
       "<Figure size 640x480 with 1 Axes>"
      ]
     },
     "metadata": {},
     "output_type": "display_data"
    }
   ],
   "source": [
    "break_days_count.plot(c='c')\n",
    "plt.title('Breaks between actions', fontdict={'fontsize': 14})\n",
    "plt.xlabel('n day')\n",
    "plt.xlim(1, 15)\n",
    "plt.ylabel('count')\n",
    "#the most frequent of days break is 1 and 2, so we will make our predictions by first 2 days \n",
    "#(and it also says in the task)"
   ]
  },
  {
   "cell_type": "code",
   "execution_count": 12,
   "id": "bc6a1a74",
   "metadata": {
    "scrolled": true
   },
   "outputs": [
    {
     "data": {
      "text/html": [
       "<div>\n",
       "<style scoped>\n",
       "    .dataframe tbody tr th:only-of-type {\n",
       "        vertical-align: middle;\n",
       "    }\n",
       "\n",
       "    .dataframe tbody tr th {\n",
       "        vertical-align: top;\n",
       "    }\n",
       "\n",
       "    .dataframe thead th {\n",
       "        text-align: right;\n",
       "    }\n",
       "</style>\n",
       "<table border=\"1\" class=\"dataframe\">\n",
       "  <thead>\n",
       "    <tr style=\"text-align: right;\">\n",
       "      <th>action</th>\n",
       "      <th>user_id</th>\n",
       "      <th>discovered</th>\n",
       "      <th>passed</th>\n",
       "      <th>started_attempt</th>\n",
       "      <th>viewed</th>\n",
       "    </tr>\n",
       "  </thead>\n",
       "  <tbody>\n",
       "    <tr>\n",
       "      <th>7025</th>\n",
       "      <td>9751</td>\n",
       "      <td>198</td>\n",
       "      <td>198</td>\n",
       "      <td>98</td>\n",
       "      <td>486</td>\n",
       "    </tr>\n",
       "    <tr>\n",
       "      <th>15993</th>\n",
       "      <td>22298</td>\n",
       "      <td>198</td>\n",
       "      <td>198</td>\n",
       "      <td>115</td>\n",
       "      <td>560</td>\n",
       "    </tr>\n",
       "    <tr>\n",
       "      <th>18743</th>\n",
       "      <td>26117</td>\n",
       "      <td>198</td>\n",
       "      <td>198</td>\n",
       "      <td>99</td>\n",
       "      <td>346</td>\n",
       "    </tr>\n",
       "    <tr>\n",
       "      <th>9026</th>\n",
       "      <td>12529</td>\n",
       "      <td>198</td>\n",
       "      <td>198</td>\n",
       "      <td>90</td>\n",
       "      <td>584</td>\n",
       "    </tr>\n",
       "    <tr>\n",
       "      <th>14164</th>\n",
       "      <td>19683</td>\n",
       "      <td>197</td>\n",
       "      <td>198</td>\n",
       "      <td>94</td>\n",
       "      <td>365</td>\n",
       "    </tr>\n",
       "  </tbody>\n",
       "</table>\n",
       "</div>"
      ],
      "text/plain": [
       "action  user_id  discovered  passed  started_attempt  viewed\n",
       "7025       9751         198     198               98     486\n",
       "15993     22298         198     198              115     560\n",
       "18743     26117         198     198               99     346\n",
       "9026      12529         198     198               90     584\n",
       "14164     19683         197     198               94     365"
      ]
     },
     "execution_count": 12,
     "metadata": {},
     "output_type": "execute_result"
    }
   ],
   "source": [
    "user_steps = pd.pivot_table(events, index='user_id',  columns='action', \n",
    "                            values  = 'step_id', aggfunc = 'count',\n",
    "                            fill_value = 0).reset_index()\n",
    "user_steps.sort_values(by='passed').tail()"
   ]
  },
  {
   "cell_type": "code",
   "execution_count": 13,
   "id": "7f96471f",
   "metadata": {},
   "outputs": [],
   "source": [
    "first_encounter = events[['timestamp', 'user_id']].groupby('user_id', as_index=False)\\\n",
    "                                                  .agg({'timestamp': 'min'})\\\n",
    "                                                  .rename({'timestamp': 'first_timestmap'}, axis=1)"
   ]
  },
  {
   "cell_type": "code",
   "execution_count": 14,
   "id": "ed341300",
   "metadata": {},
   "outputs": [
    {
     "data": {
      "text/html": [
       "<div>\n",
       "<style scoped>\n",
       "    .dataframe tbody tr th:only-of-type {\n",
       "        vertical-align: middle;\n",
       "    }\n",
       "\n",
       "    .dataframe tbody tr th {\n",
       "        vertical-align: top;\n",
       "    }\n",
       "\n",
       "    .dataframe thead th {\n",
       "        text-align: right;\n",
       "    }\n",
       "</style>\n",
       "<table border=\"1\" class=\"dataframe\">\n",
       "  <thead>\n",
       "    <tr style=\"text-align: right;\">\n",
       "      <th></th>\n",
       "      <th>step_id</th>\n",
       "      <th>timestamp</th>\n",
       "      <th>action</th>\n",
       "      <th>user_id</th>\n",
       "      <th>date</th>\n",
       "      <th>first_timestmap</th>\n",
       "    </tr>\n",
       "  </thead>\n",
       "  <tbody>\n",
       "    <tr>\n",
       "      <th>0</th>\n",
       "      <td>32815</td>\n",
       "      <td>1434340848</td>\n",
       "      <td>viewed</td>\n",
       "      <td>17632</td>\n",
       "      <td>2015-06-15</td>\n",
       "      <td>1434340848</td>\n",
       "    </tr>\n",
       "    <tr>\n",
       "      <th>1</th>\n",
       "      <td>32815</td>\n",
       "      <td>1434340848</td>\n",
       "      <td>passed</td>\n",
       "      <td>17632</td>\n",
       "      <td>2015-06-15</td>\n",
       "      <td>1434340848</td>\n",
       "    </tr>\n",
       "    <tr>\n",
       "      <th>2</th>\n",
       "      <td>32815</td>\n",
       "      <td>1434340848</td>\n",
       "      <td>discovered</td>\n",
       "      <td>17632</td>\n",
       "      <td>2015-06-15</td>\n",
       "      <td>1434340848</td>\n",
       "    </tr>\n",
       "    <tr>\n",
       "      <th>3</th>\n",
       "      <td>32811</td>\n",
       "      <td>1434340895</td>\n",
       "      <td>discovered</td>\n",
       "      <td>17632</td>\n",
       "      <td>2015-06-15</td>\n",
       "      <td>1434340848</td>\n",
       "    </tr>\n",
       "    <tr>\n",
       "      <th>4</th>\n",
       "      <td>32811</td>\n",
       "      <td>1434340895</td>\n",
       "      <td>viewed</td>\n",
       "      <td>17632</td>\n",
       "      <td>2015-06-15</td>\n",
       "      <td>1434340848</td>\n",
       "    </tr>\n",
       "  </tbody>\n",
       "</table>\n",
       "</div>"
      ],
      "text/plain": [
       "   step_id   timestamp      action  user_id        date  first_timestmap\n",
       "0    32815  1434340848      viewed    17632  2015-06-15       1434340848\n",
       "1    32815  1434340848      passed    17632  2015-06-15       1434340848\n",
       "2    32815  1434340848  discovered    17632  2015-06-15       1434340848\n",
       "3    32811  1434340895  discovered    17632  2015-06-15       1434340848\n",
       "4    32811  1434340895      viewed    17632  2015-06-15       1434340848"
      ]
     },
     "execution_count": 14,
     "metadata": {},
     "output_type": "execute_result"
    }
   ],
   "source": [
    "events = events.merge(first_encounter, on='user_id')\n",
    "events.head()"
   ]
  },
  {
   "cell_type": "code",
   "execution_count": 15,
   "id": "616a3dcd",
   "metadata": {},
   "outputs": [],
   "source": [
    "n_days = 2 #number of days for threshold\n",
    "events_first_days = events[(events['timestamp'] < events['first_timestmap']+n_days*24*60*60)]"
   ]
  },
  {
   "cell_type": "code",
   "execution_count": 16,
   "id": "9f1ac3e6",
   "metadata": {},
   "outputs": [
    {
     "data": {
      "text/html": [
       "<div>\n",
       "<style scoped>\n",
       "    .dataframe tbody tr th:only-of-type {\n",
       "        vertical-align: middle;\n",
       "    }\n",
       "\n",
       "    .dataframe tbody tr th {\n",
       "        vertical-align: top;\n",
       "    }\n",
       "\n",
       "    .dataframe thead th {\n",
       "        text-align: right;\n",
       "    }\n",
       "</style>\n",
       "<table border=\"1\" class=\"dataframe\">\n",
       "  <thead>\n",
       "    <tr style=\"text-align: right;\">\n",
       "      <th></th>\n",
       "      <th>step_id</th>\n",
       "      <th>timestamp</th>\n",
       "      <th>action</th>\n",
       "      <th>user_id</th>\n",
       "      <th>date</th>\n",
       "      <th>first_timestmap</th>\n",
       "    </tr>\n",
       "  </thead>\n",
       "  <tbody>\n",
       "    <tr>\n",
       "      <th>0</th>\n",
       "      <td>32815</td>\n",
       "      <td>1434340848</td>\n",
       "      <td>viewed</td>\n",
       "      <td>17632</td>\n",
       "      <td>2015-06-15</td>\n",
       "      <td>1434340848</td>\n",
       "    </tr>\n",
       "    <tr>\n",
       "      <th>1</th>\n",
       "      <td>32815</td>\n",
       "      <td>1434340848</td>\n",
       "      <td>passed</td>\n",
       "      <td>17632</td>\n",
       "      <td>2015-06-15</td>\n",
       "      <td>1434340848</td>\n",
       "    </tr>\n",
       "    <tr>\n",
       "      <th>2</th>\n",
       "      <td>32815</td>\n",
       "      <td>1434340848</td>\n",
       "      <td>discovered</td>\n",
       "      <td>17632</td>\n",
       "      <td>2015-06-15</td>\n",
       "      <td>1434340848</td>\n",
       "    </tr>\n",
       "    <tr>\n",
       "      <th>3</th>\n",
       "      <td>32811</td>\n",
       "      <td>1434340895</td>\n",
       "      <td>discovered</td>\n",
       "      <td>17632</td>\n",
       "      <td>2015-06-15</td>\n",
       "      <td>1434340848</td>\n",
       "    </tr>\n",
       "    <tr>\n",
       "      <th>4</th>\n",
       "      <td>32811</td>\n",
       "      <td>1434340895</td>\n",
       "      <td>viewed</td>\n",
       "      <td>17632</td>\n",
       "      <td>2015-06-15</td>\n",
       "      <td>1434340848</td>\n",
       "    </tr>\n",
       "  </tbody>\n",
       "</table>\n",
       "</div>"
      ],
      "text/plain": [
       "   step_id   timestamp      action  user_id        date  first_timestmap\n",
       "0    32815  1434340848      viewed    17632  2015-06-15       1434340848\n",
       "1    32815  1434340848      passed    17632  2015-06-15       1434340848\n",
       "2    32815  1434340848  discovered    17632  2015-06-15       1434340848\n",
       "3    32811  1434340895  discovered    17632  2015-06-15       1434340848\n",
       "4    32811  1434340895      viewed    17632  2015-06-15       1434340848"
      ]
     },
     "execution_count": 16,
     "metadata": {},
     "output_type": "execute_result"
    }
   ],
   "source": [
    "events_first_days.head()"
   ]
  },
  {
   "cell_type": "code",
   "execution_count": 17,
   "id": "c8d02ebc",
   "metadata": {
    "scrolled": true
   },
   "outputs": [
    {
     "data": {
      "text/html": [
       "<div>\n",
       "<style scoped>\n",
       "    .dataframe tbody tr th:only-of-type {\n",
       "        vertical-align: middle;\n",
       "    }\n",
       "\n",
       "    .dataframe tbody tr th {\n",
       "        vertical-align: top;\n",
       "    }\n",
       "\n",
       "    .dataframe thead th {\n",
       "        text-align: right;\n",
       "    }\n",
       "</style>\n",
       "<table border=\"1\" class=\"dataframe\">\n",
       "  <thead>\n",
       "    <tr style=\"text-align: right;\">\n",
       "      <th></th>\n",
       "      <th>user_id</th>\n",
       "      <th>discovered</th>\n",
       "      <th>passed</th>\n",
       "      <th>started_attempt</th>\n",
       "      <th>viewed</th>\n",
       "    </tr>\n",
       "  </thead>\n",
       "  <tbody>\n",
       "    <tr>\n",
       "      <th>0</th>\n",
       "      <td>1046</td>\n",
       "      <td>7</td>\n",
       "      <td>8</td>\n",
       "      <td>23</td>\n",
       "      <td>568</td>\n",
       "    </tr>\n",
       "    <tr>\n",
       "      <th>1</th>\n",
       "      <td>9880</td>\n",
       "      <td>115</td>\n",
       "      <td>67</td>\n",
       "      <td>2</td>\n",
       "      <td>524</td>\n",
       "    </tr>\n",
       "    <tr>\n",
       "      <th>2</th>\n",
       "      <td>25279</td>\n",
       "      <td>124</td>\n",
       "      <td>83</td>\n",
       "      <td>0</td>\n",
       "      <td>473</td>\n",
       "    </tr>\n",
       "    <tr>\n",
       "      <th>3</th>\n",
       "      <td>2514</td>\n",
       "      <td>50</td>\n",
       "      <td>31</td>\n",
       "      <td>0</td>\n",
       "      <td>458</td>\n",
       "    </tr>\n",
       "    <tr>\n",
       "      <th>4</th>\n",
       "      <td>13678</td>\n",
       "      <td>136</td>\n",
       "      <td>114</td>\n",
       "      <td>116</td>\n",
       "      <td>397</td>\n",
       "    </tr>\n",
       "  </tbody>\n",
       "</table>\n",
       "</div>"
      ],
      "text/plain": [
       "   user_id  discovered  passed  started_attempt  viewed\n",
       "0     1046           7       8               23     568\n",
       "1     9880         115      67                2     524\n",
       "2    25279         124      83                0     473\n",
       "3     2514          50      31                0     458\n",
       "4    13678         136     114              116     397"
      ]
     },
     "execution_count": 17,
     "metadata": {},
     "output_type": "execute_result"
    }
   ],
   "source": [
    "events_table = events_first_days.pivot_table(index='user_id', columns='action',\n",
    "                                             values='step_id', aggfunc='count',\n",
    "                                             fill_value=0).sort_values('viewed', ascending=False).reset_index()\n",
    "events_table.columns.names = ['']\n",
    "events_table.head()"
   ]
  },
  {
   "cell_type": "code",
   "execution_count": 18,
   "id": "2e122b5e",
   "metadata": {},
   "outputs": [],
   "source": [
    "submission_count_all = submissions[['user_id', 'submission_status']].groupby(['user_id', 'submission_status'], as_index=False)\\\n",
    "                                                                    .size().rename({'size': 'sub_count'}, axis=1)\n",
    "passed_ids = submission_count_all[(submission_count_all.submission_status=='correct') & #count guys, who got more then \n",
    "                                  (submission_count_all.sub_count>40)].user_id          #40 correct answers, as passed"
   ]
  },
  {
   "cell_type": "code",
   "execution_count": 19,
   "id": "1b9b752e",
   "metadata": {},
   "outputs": [],
   "source": [
    "first_encounter = submissions[['timestamp', 'user_id']].groupby('user_id', as_index=False)\\\n",
    "                                                       .agg({'timestamp': 'min'})\\\n",
    "                                                       .rename({'timestamp': 'first_timestmap'}, axis=1)"
   ]
  },
  {
   "cell_type": "code",
   "execution_count": 20,
   "id": "a33d1d40",
   "metadata": {},
   "outputs": [],
   "source": [
    "submissions_first_days = submissions.merge(first_encounter, on='user_id')"
   ]
  },
  {
   "cell_type": "code",
   "execution_count": 21,
   "id": "fae0766a",
   "metadata": {},
   "outputs": [],
   "source": [
    "submissions_first_days = submissions_first_days[(submissions_first_days['timestamp'] <\n",
    "                                                 submissions_first_days['first_timestmap']+2*24*60*60)]"
   ]
  },
  {
   "cell_type": "code",
   "execution_count": 22,
   "id": "3c7e2fc8",
   "metadata": {},
   "outputs": [
    {
     "data": {
      "text/html": [
       "<div>\n",
       "<style scoped>\n",
       "    .dataframe tbody tr th:only-of-type {\n",
       "        vertical-align: middle;\n",
       "    }\n",
       "\n",
       "    .dataframe tbody tr th {\n",
       "        vertical-align: top;\n",
       "    }\n",
       "\n",
       "    .dataframe thead th {\n",
       "        text-align: right;\n",
       "    }\n",
       "</style>\n",
       "<table border=\"1\" class=\"dataframe\">\n",
       "  <thead>\n",
       "    <tr style=\"text-align: right;\">\n",
       "      <th></th>\n",
       "      <th>step_id</th>\n",
       "      <th>timestamp</th>\n",
       "      <th>submission_status</th>\n",
       "      <th>user_id</th>\n",
       "      <th>date</th>\n",
       "      <th>first_timestmap</th>\n",
       "    </tr>\n",
       "  </thead>\n",
       "  <tbody>\n",
       "    <tr>\n",
       "      <th>0</th>\n",
       "      <td>31971</td>\n",
       "      <td>1434349275</td>\n",
       "      <td>correct</td>\n",
       "      <td>15853</td>\n",
       "      <td>2015-06-15</td>\n",
       "      <td>1434346056</td>\n",
       "    </tr>\n",
       "    <tr>\n",
       "      <th>1</th>\n",
       "      <td>31972</td>\n",
       "      <td>1434348300</td>\n",
       "      <td>correct</td>\n",
       "      <td>15853</td>\n",
       "      <td>2015-06-15</td>\n",
       "      <td>1434346056</td>\n",
       "    </tr>\n",
       "    <tr>\n",
       "      <th>4</th>\n",
       "      <td>31976</td>\n",
       "      <td>1434348123</td>\n",
       "      <td>wrong</td>\n",
       "      <td>15853</td>\n",
       "      <td>2015-06-15</td>\n",
       "      <td>1434346056</td>\n",
       "    </tr>\n",
       "    <tr>\n",
       "      <th>5</th>\n",
       "      <td>31976</td>\n",
       "      <td>1434348188</td>\n",
       "      <td>correct</td>\n",
       "      <td>15853</td>\n",
       "      <td>2015-06-15</td>\n",
       "      <td>1434346056</td>\n",
       "    </tr>\n",
       "    <tr>\n",
       "      <th>7</th>\n",
       "      <td>31977</td>\n",
       "      <td>1434347371</td>\n",
       "      <td>correct</td>\n",
       "      <td>15853</td>\n",
       "      <td>2015-06-15</td>\n",
       "      <td>1434346056</td>\n",
       "    </tr>\n",
       "  </tbody>\n",
       "</table>\n",
       "</div>"
      ],
      "text/plain": [
       "   step_id   timestamp submission_status  user_id        date  first_timestmap\n",
       "0    31971  1434349275           correct    15853  2015-06-15       1434346056\n",
       "1    31972  1434348300           correct    15853  2015-06-15       1434346056\n",
       "4    31976  1434348123             wrong    15853  2015-06-15       1434346056\n",
       "5    31976  1434348188           correct    15853  2015-06-15       1434346056\n",
       "7    31977  1434347371           correct    15853  2015-06-15       1434346056"
      ]
     },
     "execution_count": 22,
     "metadata": {},
     "output_type": "execute_result"
    }
   ],
   "source": [
    "submissions_first_days.head()"
   ]
  },
  {
   "cell_type": "code",
   "execution_count": 23,
   "id": "29f8a867",
   "metadata": {},
   "outputs": [],
   "source": [
    "submission_count_fd = submissions_first_days[['user_id', 'submission_status']].groupby(['user_id', 'submission_status'], as_index=False)\\\n",
    "                                                                           .size().rename({'size': 'sub_count'}, axis=1)"
   ]
  },
  {
   "cell_type": "code",
   "execution_count": 24,
   "id": "f565c7d8",
   "metadata": {},
   "outputs": [
    {
     "data": {
      "text/html": [
       "<div>\n",
       "<style scoped>\n",
       "    .dataframe tbody tr th:only-of-type {\n",
       "        vertical-align: middle;\n",
       "    }\n",
       "\n",
       "    .dataframe tbody tr th {\n",
       "        vertical-align: top;\n",
       "    }\n",
       "\n",
       "    .dataframe thead th {\n",
       "        text-align: right;\n",
       "    }\n",
       "</style>\n",
       "<table border=\"1\" class=\"dataframe\">\n",
       "  <thead>\n",
       "    <tr style=\"text-align: right;\">\n",
       "      <th></th>\n",
       "      <th>user_id</th>\n",
       "      <th>correct</th>\n",
       "      <th>wrong</th>\n",
       "    </tr>\n",
       "  </thead>\n",
       "  <tbody>\n",
       "    <tr>\n",
       "      <th>0</th>\n",
       "      <td>2</td>\n",
       "      <td>2.0</td>\n",
       "      <td>0.0</td>\n",
       "    </tr>\n",
       "    <tr>\n",
       "      <th>1</th>\n",
       "      <td>3</td>\n",
       "      <td>4.0</td>\n",
       "      <td>4.0</td>\n",
       "    </tr>\n",
       "    <tr>\n",
       "      <th>2</th>\n",
       "      <td>5</td>\n",
       "      <td>2.0</td>\n",
       "      <td>2.0</td>\n",
       "    </tr>\n",
       "    <tr>\n",
       "      <th>3</th>\n",
       "      <td>8</td>\n",
       "      <td>9.0</td>\n",
       "      <td>21.0</td>\n",
       "    </tr>\n",
       "    <tr>\n",
       "      <th>4</th>\n",
       "      <td>14</td>\n",
       "      <td>0.0</td>\n",
       "      <td>1.0</td>\n",
       "    </tr>\n",
       "  </tbody>\n",
       "</table>\n",
       "</div>"
      ],
      "text/plain": [
       "   user_id  correct  wrong\n",
       "0        2      2.0    0.0\n",
       "1        3      4.0    4.0\n",
       "2        5      2.0    2.0\n",
       "3        8      9.0   21.0\n",
       "4       14      0.0    1.0"
      ]
     },
     "execution_count": 24,
     "metadata": {},
     "output_type": "execute_result"
    }
   ],
   "source": [
    "submission_count_fd = submission_count_fd.pivot_table(index='user_id', columns='submission_status', values='sub_count')\\\n",
    "                                   .reset_index().fillna(0)\n",
    "submission_count_fd.columns.names = ['']\n",
    "submission_count_fd.head()"
   ]
  },
  {
   "cell_type": "code",
   "execution_count": 25,
   "id": "5b8f5feb",
   "metadata": {},
   "outputs": [],
   "source": [
    "events_table = events_table.merge(submission_count_fd, on='user_id', how='left').fillna(0)"
   ]
  },
  {
   "cell_type": "code",
   "execution_count": 26,
   "id": "ae5ac688",
   "metadata": {
    "scrolled": true
   },
   "outputs": [
    {
     "data": {
      "text/html": [
       "<div>\n",
       "<style scoped>\n",
       "    .dataframe tbody tr th:only-of-type {\n",
       "        vertical-align: middle;\n",
       "    }\n",
       "\n",
       "    .dataframe tbody tr th {\n",
       "        vertical-align: top;\n",
       "    }\n",
       "\n",
       "    .dataframe thead th {\n",
       "        text-align: right;\n",
       "    }\n",
       "</style>\n",
       "<table border=\"1\" class=\"dataframe\">\n",
       "  <thead>\n",
       "    <tr style=\"text-align: right;\">\n",
       "      <th></th>\n",
       "      <th>user_id</th>\n",
       "      <th>discovered</th>\n",
       "      <th>passed</th>\n",
       "      <th>started_attempt</th>\n",
       "      <th>viewed</th>\n",
       "      <th>correct</th>\n",
       "      <th>wrong</th>\n",
       "      <th>correct_ratio</th>\n",
       "    </tr>\n",
       "  </thead>\n",
       "  <tbody>\n",
       "    <tr>\n",
       "      <th>0</th>\n",
       "      <td>1046</td>\n",
       "      <td>7</td>\n",
       "      <td>8</td>\n",
       "      <td>23</td>\n",
       "      <td>568</td>\n",
       "      <td>17.0</td>\n",
       "      <td>8.0</td>\n",
       "      <td>0.68</td>\n",
       "    </tr>\n",
       "    <tr>\n",
       "      <th>1</th>\n",
       "      <td>9880</td>\n",
       "      <td>115</td>\n",
       "      <td>67</td>\n",
       "      <td>2</td>\n",
       "      <td>524</td>\n",
       "      <td>0.0</td>\n",
       "      <td>0.0</td>\n",
       "      <td>0.00</td>\n",
       "    </tr>\n",
       "    <tr>\n",
       "      <th>2</th>\n",
       "      <td>25279</td>\n",
       "      <td>124</td>\n",
       "      <td>83</td>\n",
       "      <td>0</td>\n",
       "      <td>473</td>\n",
       "      <td>0.0</td>\n",
       "      <td>0.0</td>\n",
       "      <td>0.00</td>\n",
       "    </tr>\n",
       "    <tr>\n",
       "      <th>3</th>\n",
       "      <td>2514</td>\n",
       "      <td>50</td>\n",
       "      <td>31</td>\n",
       "      <td>0</td>\n",
       "      <td>458</td>\n",
       "      <td>0.0</td>\n",
       "      <td>0.0</td>\n",
       "      <td>0.00</td>\n",
       "    </tr>\n",
       "    <tr>\n",
       "      <th>4</th>\n",
       "      <td>13678</td>\n",
       "      <td>136</td>\n",
       "      <td>114</td>\n",
       "      <td>116</td>\n",
       "      <td>397</td>\n",
       "      <td>36.0</td>\n",
       "      <td>183.0</td>\n",
       "      <td>0.16</td>\n",
       "    </tr>\n",
       "  </tbody>\n",
       "</table>\n",
       "</div>"
      ],
      "text/plain": [
       "   user_id  discovered  passed  started_attempt  viewed  correct  wrong  \\\n",
       "0     1046           7       8               23     568     17.0    8.0   \n",
       "1     9880         115      67                2     524      0.0    0.0   \n",
       "2    25279         124      83                0     473      0.0    0.0   \n",
       "3     2514          50      31                0     458      0.0    0.0   \n",
       "4    13678         136     114              116     397     36.0  183.0   \n",
       "\n",
       "   correct_ratio  \n",
       "0           0.68  \n",
       "1           0.00  \n",
       "2           0.00  \n",
       "3           0.00  \n",
       "4           0.16  "
      ]
     },
     "execution_count": 26,
     "metadata": {},
     "output_type": "execute_result"
    }
   ],
   "source": [
    "events_table['correct_ratio'] = round((events_table['correct'] / (events_table['correct'] + events_table['wrong'])), 2)\n",
    "events_table = events_table.fillna(0)\n",
    "events_table.head()"
   ]
  },
  {
   "cell_type": "code",
   "execution_count": 27,
   "id": "3b53f014",
   "metadata": {},
   "outputs": [
    {
     "data": {
      "text/plain": [
       "0    17266\n",
       "1     1968\n",
       "Name: complete, dtype: int64"
      ]
     },
     "execution_count": 27,
     "metadata": {},
     "output_type": "execute_result"
    }
   ],
   "source": [
    "events_table['complete'] = (events_table.user_id.isin(passed_ids))\n",
    "events_table['complete'].replace([True, False], [1, 0], inplace=True)\n",
    "events_table.complete.value_counts()"
   ]
  },
  {
   "cell_type": "code",
   "execution_count": 28,
   "id": "b9ecb08f",
   "metadata": {
    "scrolled": true
   },
   "outputs": [
    {
     "data": {
      "text/plain": [
       "19234"
      ]
     },
     "execution_count": 28,
     "metadata": {},
     "output_type": "execute_result"
    }
   ],
   "source": [
    "events_table.user_id.nunique() #checking if no data has been lost (should be 19234, as in 7 cell)"
   ]
  },
  {
   "cell_type": "code",
   "execution_count": 29,
   "id": "6569de42",
   "metadata": {},
   "outputs": [],
   "source": [
    "#create df with new users (have entered our course less then one week ago) \n",
    "#and delete them from our resulting table, \n",
    "#because we don't have much info about to classify them\n",
    "last_timestamp = events.timestamp.max()\n",
    "new_users = events[['user_id', 'timestamp']].groupby('user_id', as_index=False)\\\n",
    "                                            .agg({'timestamp': 'min'})\n",
    "new_users = new_users[new_users.timestamp > (last_timestamp - 7*24*60*60)].user_id\n",
    "events_table = events_table[~events_table.user_id.isin(new_users)]"
   ]
  },
  {
   "cell_type": "code",
   "execution_count": 48,
   "id": "7186574e",
   "metadata": {},
   "outputs": [
    {
     "data": {
      "text/plain": [
       "(19050, 184)"
      ]
     },
     "execution_count": 48,
     "metadata": {},
     "output_type": "execute_result"
    }
   ],
   "source": [
    "events_table.user_id.nunique(), new_users.count() #19234 - 184 = 19050 => all correct"
   ]
  },
  {
   "cell_type": "code",
   "execution_count": 30,
   "id": "2c6390b1",
   "metadata": {},
   "outputs": [
    {
     "data": {
      "text/plain": [
       "Text(0.5, 1.0, 'Correlation Table')"
      ]
     },
     "execution_count": 30,
     "metadata": {},
     "output_type": "execute_result"
    },
    {
     "data": {
      "image/png": "[encoded data removed]",
      "text/plain": [
       "<Figure size 1000x800 with 2 Axes>"
      ]
     },
     "metadata": {},
     "output_type": "display_data"
    }
   ],
   "source": [
    "hm_fig = plt.figure(figsize=(10,8))\n",
    "corr = events_table.drop('user_id', axis=1).corr()\n",
    "sns.heatmap(corr, cmap=\"Blues\", annot=True,\n",
    "            xticklabels=corr.columns,\n",
    "            yticklabels=corr.columns)\n",
    "plt.title('Correlation Table', fontdict={'fontsize': 14})"
   ]
  },
  {
   "cell_type": "code",
   "execution_count": 31,
   "id": "28951bed",
   "metadata": {},
   "outputs": [
    {
     "data": {
      "text/html": [
       "<div>\n",
       "<style scoped>\n",
       "    .dataframe tbody tr th:only-of-type {\n",
       "        vertical-align: middle;\n",
       "    }\n",
       "\n",
       "    .dataframe tbody tr th {\n",
       "        vertical-align: top;\n",
       "    }\n",
       "\n",
       "    .dataframe thead th {\n",
       "        text-align: right;\n",
       "    }\n",
       "</style>\n",
       "<table border=\"1\" class=\"dataframe\">\n",
       "  <thead>\n",
       "    <tr style=\"text-align: right;\">\n",
       "      <th></th>\n",
       "      <th>passed</th>\n",
       "      <th>correct</th>\n",
       "      <th>wrong</th>\n",
       "      <th>correct_ratio</th>\n",
       "    </tr>\n",
       "  </thead>\n",
       "  <tbody>\n",
       "    <tr>\n",
       "      <th>0</th>\n",
       "      <td>8</td>\n",
       "      <td>17.0</td>\n",
       "      <td>8.0</td>\n",
       "      <td>0.68</td>\n",
       "    </tr>\n",
       "    <tr>\n",
       "      <th>1</th>\n",
       "      <td>67</td>\n",
       "      <td>0.0</td>\n",
       "      <td>0.0</td>\n",
       "      <td>0.00</td>\n",
       "    </tr>\n",
       "    <tr>\n",
       "      <th>2</th>\n",
       "      <td>83</td>\n",
       "      <td>0.0</td>\n",
       "      <td>0.0</td>\n",
       "      <td>0.00</td>\n",
       "    </tr>\n",
       "    <tr>\n",
       "      <th>3</th>\n",
       "      <td>31</td>\n",
       "      <td>0.0</td>\n",
       "      <td>0.0</td>\n",
       "      <td>0.00</td>\n",
       "    </tr>\n",
       "    <tr>\n",
       "      <th>4</th>\n",
       "      <td>114</td>\n",
       "      <td>36.0</td>\n",
       "      <td>183.0</td>\n",
       "      <td>0.16</td>\n",
       "    </tr>\n",
       "  </tbody>\n",
       "</table>\n",
       "</div>"
      ],
      "text/plain": [
       "   passed  correct  wrong  correct_ratio\n",
       "0       8     17.0    8.0           0.68\n",
       "1      67      0.0    0.0           0.00\n",
       "2      83      0.0    0.0           0.00\n",
       "3      31      0.0    0.0           0.00\n",
       "4     114     36.0  183.0           0.16"
      ]
     },
     "execution_count": 31,
     "metadata": {},
     "output_type": "execute_result"
    }
   ],
   "source": [
    "#split our resulting table in two blocks: features and target\n",
    "#and delete from our features those who are to much correlated with each other\n",
    "X = events_table.drop(['user_id', 'complete', 'discovered', 'started_attempt', 'viewed'], axis=1) \n",
    "y = events_table.complete\n",
    "X.head()"
   ]
  },
  {
   "cell_type": "code",
   "execution_count": 32,
   "id": "c2173288",
   "metadata": {},
   "outputs": [],
   "source": [
    "#now let's get best params for our classifier (Random Forest), using GridSearchCV\n",
    "rf = RandomForestClassifier(random_state=123)\n",
    "params = {'n_estimators': range(10, 30, 5), 'max_depth': range(2, 10),\n",
    "          'min_samples_leaf': range(1, 5), 'min_samples_split': range(2, 10)}\n",
    "grid_rf = GridSearchCV(rf, params, cv=3, n_jobs=-1)"
   ]
  },
  {
   "cell_type": "code",
   "execution_count": 33,
   "id": "5a01953d",
   "metadata": {},
   "outputs": [
    {
     "data": {
      "text/plain": [
       "GridSearchCV(cv=3, estimator=RandomForestClassifier(random_state=123),\n",
       "             n_jobs=-1,\n",
       "             param_grid={'max_depth': range(2, 10),\n",
       "                         'min_samples_leaf': range(1, 5),\n",
       "                         'min_samples_split': range(2, 10),\n",
       "                         'n_estimators': range(10, 30, 5)})"
      ]
     },
     "execution_count": 33,
     "metadata": {},
     "output_type": "execute_result"
    }
   ],
   "source": [
    "grid_rf.fit(X, y)"
   ]
  },
  {
   "cell_type": "code",
   "execution_count": 34,
   "id": "680943a6",
   "metadata": {},
   "outputs": [
    {
     "data": {
      "text/plain": [
       "<bound method BaseEstimator.get_params of RandomForestClassifier(max_depth=2, n_estimators=25, random_state=123)>"
      ]
     },
     "execution_count": 34,
     "metadata": {},
     "output_type": "execute_result"
    }
   ],
   "source": [
    "best_rf = grid_rf.best_estimator_\n",
    "best_rf.get_params"
   ]
  },
  {
   "cell_type": "code",
   "execution_count": 35,
   "id": "f3671449",
   "metadata": {},
   "outputs": [
    {
     "data": {
      "text/plain": [
       "array([0.31962325, 0.49031626, 0.02475567, 0.16530482])"
      ]
     },
     "execution_count": 35,
     "metadata": {},
     "output_type": "execute_result"
    }
   ],
   "source": [
    "features_scores = best_rf.feature_importances_\n",
    "features_scores"
   ]
  },
  {
   "cell_type": "code",
   "execution_count": 36,
   "id": "2b2a729b",
   "metadata": {},
   "outputs": [],
   "source": [
    "feat = pd.DataFrame({'feature': list(X), 'feature_importance': features_scores})"
   ]
  },
  {
   "cell_type": "code",
   "execution_count": 37,
   "id": "5a8ad09d",
   "metadata": {},
   "outputs": [
    {
     "data": {
      "text/plain": [
       "<AxesSubplot:ylabel='feature'>"
      ]
     },
     "execution_count": 37,
     "metadata": {},
     "output_type": "execute_result"
    },
    {
     "data": {
      "image/png": "[encoded data removed]",
      "text/plain": [
       "<Figure size 1200x800 with 1 Axes>"
      ]
     },
     "metadata": {},
     "output_type": "display_data"
    }
   ],
   "source": [
    "feat['feature_importance'] = feat['feature_importance'].round(4)\n",
    "feat.sort_values(by='feature_importance', ascending=True)\\\n",
    "    .plot(y='feature_importance', x='feature', kind='barh', figsize=(12, 8))"
   ]
  },
  {
   "cell_type": "code",
   "execution_count": 38,
   "id": "ca719a0e",
   "metadata": {},
   "outputs": [
    {
     "data": {
      "text/plain": [
       "6184"
      ]
     },
     "execution_count": 38,
     "metadata": {},
     "output_type": "execute_result"
    }
   ],
   "source": [
    "sub_test = pd.read_csv('submission_data_test.csv')\n",
    "events_test = pd.read_csv('events_data_test.csv')\n",
    "events_test['date'] = pd.to_datetime(events_test.timestamp, unit='s').dt.date\n",
    "sub_test['date'] = pd.to_datetime(sub_test.timestamp, unit='s').dt.date\n",
    "events_test.user_id.nunique()"
   ]
  },
  {
   "cell_type": "code",
   "execution_count": 39,
   "id": "b7485a4f",
   "metadata": {},
   "outputs": [
    {
     "data": {
      "text/plain": [
       "(6184, 5)"
      ]
     },
     "execution_count": 39,
     "metadata": {},
     "output_type": "execute_result"
    }
   ],
   "source": [
    "events_test_table = events_test.pivot_table(index='user_id', columns='action',\n",
    "                                             values='step_id', aggfunc='count',\n",
    "                                             fill_value=0).sort_values('viewed', ascending=False).reset_index()\n",
    "events_test_table.columns.names = ['']\n",
    "events_test_table.head()\n",
    "events_test_table.shape"
   ]
  },
  {
   "cell_type": "code",
   "execution_count": 40,
   "id": "5629fe1d",
   "metadata": {},
   "outputs": [
    {
     "data": {
      "text/html": [
       "<div>\n",
       "<style scoped>\n",
       "    .dataframe tbody tr th:only-of-type {\n",
       "        vertical-align: middle;\n",
       "    }\n",
       "\n",
       "    .dataframe tbody tr th {\n",
       "        vertical-align: top;\n",
       "    }\n",
       "\n",
       "    .dataframe thead th {\n",
       "        text-align: right;\n",
       "    }\n",
       "</style>\n",
       "<table border=\"1\" class=\"dataframe\">\n",
       "  <thead>\n",
       "    <tr style=\"text-align: right;\">\n",
       "      <th></th>\n",
       "      <th>user_id</th>\n",
       "      <th>submission_status</th>\n",
       "      <th>sub_count</th>\n",
       "    </tr>\n",
       "  </thead>\n",
       "  <tbody>\n",
       "    <tr>\n",
       "      <th>0</th>\n",
       "      <td>12</td>\n",
       "      <td>correct</td>\n",
       "      <td>1</td>\n",
       "    </tr>\n",
       "    <tr>\n",
       "      <th>1</th>\n",
       "      <td>13</td>\n",
       "      <td>correct</td>\n",
       "      <td>29</td>\n",
       "    </tr>\n",
       "    <tr>\n",
       "      <th>2</th>\n",
       "      <td>13</td>\n",
       "      <td>wrong</td>\n",
       "      <td>36</td>\n",
       "    </tr>\n",
       "    <tr>\n",
       "      <th>3</th>\n",
       "      <td>15</td>\n",
       "      <td>correct</td>\n",
       "      <td>10</td>\n",
       "    </tr>\n",
       "    <tr>\n",
       "      <th>4</th>\n",
       "      <td>15</td>\n",
       "      <td>wrong</td>\n",
       "      <td>30</td>\n",
       "    </tr>\n",
       "  </tbody>\n",
       "</table>\n",
       "</div>"
      ],
      "text/plain": [
       "   user_id submission_status  sub_count\n",
       "0       12           correct          1\n",
       "1       13           correct         29\n",
       "2       13             wrong         36\n",
       "3       15           correct         10\n",
       "4       15             wrong         30"
      ]
     },
     "execution_count": 40,
     "metadata": {},
     "output_type": "execute_result"
    }
   ],
   "source": [
    "submission_count = sub_test[['user_id', 'submission_status']].groupby(['user_id', 'submission_status'], as_index=False)\\\n",
    "                                                             .size().rename({'size': 'sub_count'}, axis=1)\n",
    "submission_count.head()"
   ]
  },
  {
   "cell_type": "code",
   "execution_count": 41,
   "id": "bf358e20",
   "metadata": {},
   "outputs": [
    {
     "data": {
      "text/html": [
       "<div>\n",
       "<style scoped>\n",
       "    .dataframe tbody tr th:only-of-type {\n",
       "        vertical-align: middle;\n",
       "    }\n",
       "\n",
       "    .dataframe tbody tr th {\n",
       "        vertical-align: top;\n",
       "    }\n",
       "\n",
       "    .dataframe thead th {\n",
       "        text-align: right;\n",
       "    }\n",
       "</style>\n",
       "<table border=\"1\" class=\"dataframe\">\n",
       "  <thead>\n",
       "    <tr style=\"text-align: right;\">\n",
       "      <th></th>\n",
       "      <th>user_id</th>\n",
       "      <th>correct</th>\n",
       "      <th>wrong</th>\n",
       "    </tr>\n",
       "  </thead>\n",
       "  <tbody>\n",
       "    <tr>\n",
       "      <th>0</th>\n",
       "      <td>12</td>\n",
       "      <td>1.0</td>\n",
       "      <td>0.0</td>\n",
       "    </tr>\n",
       "    <tr>\n",
       "      <th>1</th>\n",
       "      <td>13</td>\n",
       "      <td>29.0</td>\n",
       "      <td>36.0</td>\n",
       "    </tr>\n",
       "    <tr>\n",
       "      <th>2</th>\n",
       "      <td>15</td>\n",
       "      <td>10.0</td>\n",
       "      <td>30.0</td>\n",
       "    </tr>\n",
       "    <tr>\n",
       "      <th>3</th>\n",
       "      <td>21</td>\n",
       "      <td>24.0</td>\n",
       "      <td>103.0</td>\n",
       "    </tr>\n",
       "    <tr>\n",
       "      <th>4</th>\n",
       "      <td>35</td>\n",
       "      <td>7.0</td>\n",
       "      <td>35.0</td>\n",
       "    </tr>\n",
       "  </tbody>\n",
       "</table>\n",
       "</div>"
      ],
      "text/plain": [
       "   user_id  correct  wrong\n",
       "0       12      1.0    0.0\n",
       "1       13     29.0   36.0\n",
       "2       15     10.0   30.0\n",
       "3       21     24.0  103.0\n",
       "4       35      7.0   35.0"
      ]
     },
     "execution_count": 41,
     "metadata": {},
     "output_type": "execute_result"
    }
   ],
   "source": [
    "submission_count = submission_count.pivot_table(index='user_id', columns='submission_status', values='sub_count')\\\n",
    "                                   .reset_index().fillna(0)\n",
    "submission_count.columns.names = ['']\n",
    "submission_count.head()"
   ]
  },
  {
   "cell_type": "code",
   "execution_count": 50,
   "id": "0acb9e95",
   "metadata": {},
   "outputs": [
    {
     "data": {
      "text/html": [
       "<div>\n",
       "<style scoped>\n",
       "    .dataframe tbody tr th:only-of-type {\n",
       "        vertical-align: middle;\n",
       "    }\n",
       "\n",
       "    .dataframe tbody tr th {\n",
       "        vertical-align: top;\n",
       "    }\n",
       "\n",
       "    .dataframe thead th {\n",
       "        text-align: right;\n",
       "    }\n",
       "</style>\n",
       "<table border=\"1\" class=\"dataframe\">\n",
       "  <thead>\n",
       "    <tr style=\"text-align: right;\">\n",
       "      <th></th>\n",
       "      <th>user_id</th>\n",
       "      <th>discovered</th>\n",
       "      <th>passed</th>\n",
       "      <th>started_attempt</th>\n",
       "      <th>viewed</th>\n",
       "      <th>correct_x</th>\n",
       "      <th>wrong_x</th>\n",
       "      <th>correct_ratio</th>\n",
       "      <th>correct_y</th>\n",
       "      <th>wrong_y</th>\n",
       "    </tr>\n",
       "  </thead>\n",
       "  <tbody>\n",
       "    <tr>\n",
       "      <th>0</th>\n",
       "      <td>11619</td>\n",
       "      <td>121</td>\n",
       "      <td>111</td>\n",
       "      <td>64</td>\n",
       "      <td>543</td>\n",
       "      <td>42.0</td>\n",
       "      <td>62.0</td>\n",
       "      <td>0.40</td>\n",
       "      <td>42.0</td>\n",
       "      <td>62.0</td>\n",
       "    </tr>\n",
       "    <tr>\n",
       "      <th>1</th>\n",
       "      <td>11037</td>\n",
       "      <td>96</td>\n",
       "      <td>90</td>\n",
       "      <td>76</td>\n",
       "      <td>524</td>\n",
       "      <td>36.0</td>\n",
       "      <td>51.0</td>\n",
       "      <td>0.41</td>\n",
       "      <td>36.0</td>\n",
       "      <td>51.0</td>\n",
       "    </tr>\n",
       "    <tr>\n",
       "      <th>2</th>\n",
       "      <td>25415</td>\n",
       "      <td>102</td>\n",
       "      <td>97</td>\n",
       "      <td>45</td>\n",
       "      <td>473</td>\n",
       "      <td>37.0</td>\n",
       "      <td>106.0</td>\n",
       "      <td>0.26</td>\n",
       "      <td>37.0</td>\n",
       "      <td>106.0</td>\n",
       "    </tr>\n",
       "    <tr>\n",
       "      <th>3</th>\n",
       "      <td>13385</td>\n",
       "      <td>103</td>\n",
       "      <td>101</td>\n",
       "      <td>64</td>\n",
       "      <td>471</td>\n",
       "      <td>39.0</td>\n",
       "      <td>56.0</td>\n",
       "      <td>0.41</td>\n",
       "      <td>39.0</td>\n",
       "      <td>56.0</td>\n",
       "    </tr>\n",
       "    <tr>\n",
       "      <th>4</th>\n",
       "      <td>26775</td>\n",
       "      <td>113</td>\n",
       "      <td>103</td>\n",
       "      <td>84</td>\n",
       "      <td>455</td>\n",
       "      <td>46.0</td>\n",
       "      <td>160.0</td>\n",
       "      <td>0.22</td>\n",
       "      <td>46.0</td>\n",
       "      <td>160.0</td>\n",
       "    </tr>\n",
       "  </tbody>\n",
       "</table>\n",
       "</div>"
      ],
      "text/plain": [
       "   user_id  discovered  passed  started_attempt  viewed  correct_x  wrong_x  \\\n",
       "0    11619         121     111               64     543       42.0     62.0   \n",
       "1    11037          96      90               76     524       36.0     51.0   \n",
       "2    25415         102      97               45     473       37.0    106.0   \n",
       "3    13385         103     101               64     471       39.0     56.0   \n",
       "4    26775         113     103               84     455       46.0    160.0   \n",
       "\n",
       "   correct_ratio  correct_y  wrong_y  \n",
       "0           0.40       42.0     62.0  \n",
       "1           0.41       36.0     51.0  \n",
       "2           0.26       37.0    106.0  \n",
       "3           0.41       39.0     56.0  \n",
       "4           0.22       46.0    160.0  "
      ]
     },
     "execution_count": 50,
     "metadata": {},
     "output_type": "execute_result"
    }
   ],
   "source": [
    "events_test_table = events_test_table.merge(submission_count, on='user_id', how='left').fillna(0)\n",
    "events_test_table.head()"
   ]
  },
  {
   "cell_type": "code",
   "execution_count": 43,
   "id": "0c4cbda7",
   "metadata": {},
   "outputs": [],
   "source": [
    "events_test_table['correct_ratio'] = round((events_test_table['correct'] / (events_test_table['correct'] + events_test_table['wrong'])), 2)\n",
    "events_test_table = events_test_table.fillna(0)"
   ]
  },
  {
   "cell_type": "code",
   "execution_count": 49,
   "id": "94fd20f3",
   "metadata": {},
   "outputs": [
    {
     "data": {
      "text/html": [
       "<div>\n",
       "<style scoped>\n",
       "    .dataframe tbody tr th:only-of-type {\n",
       "        vertical-align: middle;\n",
       "    }\n",
       "\n",
       "    .dataframe tbody tr th {\n",
       "        vertical-align: top;\n",
       "    }\n",
       "\n",
       "    .dataframe thead th {\n",
       "        text-align: right;\n",
       "    }\n",
       "</style>\n",
       "<table border=\"1\" class=\"dataframe\">\n",
       "  <thead>\n",
       "    <tr style=\"text-align: right;\">\n",
       "      <th></th>\n",
       "      <th>passed</th>\n",
       "      <th>correct</th>\n",
       "      <th>wrong</th>\n",
       "      <th>correct_ratio</th>\n",
       "    </tr>\n",
       "  </thead>\n",
       "  <tbody>\n",
       "    <tr>\n",
       "      <th>0</th>\n",
       "      <td>111</td>\n",
       "      <td>42.0</td>\n",
       "      <td>62.0</td>\n",
       "      <td>0.40</td>\n",
       "    </tr>\n",
       "    <tr>\n",
       "      <th>1</th>\n",
       "      <td>90</td>\n",
       "      <td>36.0</td>\n",
       "      <td>51.0</td>\n",
       "      <td>0.41</td>\n",
       "    </tr>\n",
       "    <tr>\n",
       "      <th>2</th>\n",
       "      <td>97</td>\n",
       "      <td>37.0</td>\n",
       "      <td>106.0</td>\n",
       "      <td>0.26</td>\n",
       "    </tr>\n",
       "    <tr>\n",
       "      <th>3</th>\n",
       "      <td>101</td>\n",
       "      <td>39.0</td>\n",
       "      <td>56.0</td>\n",
       "      <td>0.41</td>\n",
       "    </tr>\n",
       "    <tr>\n",
       "      <th>4</th>\n",
       "      <td>103</td>\n",
       "      <td>46.0</td>\n",
       "      <td>160.0</td>\n",
       "      <td>0.22</td>\n",
       "    </tr>\n",
       "  </tbody>\n",
       "</table>\n",
       "</div>"
      ],
      "text/plain": [
       "   passed  correct  wrong  correct_ratio\n",
       "0     111     42.0   62.0           0.40\n",
       "1      90     36.0   51.0           0.41\n",
       "2      97     37.0  106.0           0.26\n",
       "3     101     39.0   56.0           0.41\n",
       "4     103     46.0  160.0           0.22"
      ]
     },
     "execution_count": 49,
     "metadata": {},
     "output_type": "execute_result"
    }
   ],
   "source": [
    "X_test = events_test_table.drop(['user_id', 'discovered', 'started_attempt', 'viewed'], axis=1)\n",
    "X_test.head()"
   ]
  },
  {
   "cell_type": "code",
   "execution_count": 45,
   "id": "0fe84bde",
   "metadata": {},
   "outputs": [],
   "source": [
    "predictions = best_rf.predict(X_test)"
   ]
  },
  {
   "cell_type": "code",
   "execution_count": 46,
   "id": "2838a3cc",
   "metadata": {},
   "outputs": [
    {
     "data": {
      "text/plain": [
       "0    0.498267\n",
       "1    0.498267\n",
       "2    0.498267\n",
       "3    0.498267\n",
       "4    0.486202\n",
       "Name: is_gone, dtype: float64"
      ]
     },
     "execution_count": 46,
     "metadata": {},
     "output_type": "execute_result"
    }
   ],
   "source": [
    "probs = best_rf.predict_proba(X_test)\n",
    "probs_s = pd.Series(probs[:, 1], name='is_gone')\n",
    "probs_s.head()"
   ]
  },
  {
   "cell_type": "code",
   "execution_count": 47,
   "id": "bc6f204b",
   "metadata": {},
   "outputs": [],
   "source": [
    "pd.merge(events_test_table.user_id, probs_s, left_index=True, right_index=True).to_csv('competition.csv')\n",
    "#as result we got: \"Your ROC score is 0.882253471557262\""
   ]
  }
 ],
 "metadata": {
  "kernelspec": {
   "display_name": "Python 3 (ipykernel)",
   "language": "python",
   "name": "python3"
  },
  "language_info": {
   "codemirror_mode": {
    "name": "ipython",
    "version": 3
   },
   "file_extension": ".py",
   "mimetype": "text/x-python",
   "name": "python",
   "nbconvert_exporter": "python",
   "pygments_lexer": "ipython3",
   "version": "3.9.15"
  }
 },
 "nbformat": 4,
 "nbformat_minor": 5
}
